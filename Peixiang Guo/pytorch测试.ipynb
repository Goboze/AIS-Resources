{
 "cells": [
  {
   "metadata": {},
   "cell_type": "code",
   "outputs": [],
   "execution_count": null,
   "source": "",
   "id": "1bd093efa9caa06f"
  },
  {
   "metadata": {},
   "cell_type": "code",
   "outputs": [],
   "execution_count": 1,
   "source": [
    "import torch  # 导入PyTorch库\n",
    "from torch import nn  # 从torch导入神经网络模块\n",
    "from torch.utils.data import DataLoader  # 从torch.utils.data导入数据加载器\n",
    "from torchvision import datasets  # 从torchvision导入数据集模块\n",
    "from torchvision.transforms import ToTensor  # 从torchvision.transforms导入ToTensor转换"
   ],
   "id": "initial_id"
  },
  {
   "metadata": {},
   "cell_type": "code",
   "outputs": [
    {
     "name": "stdout",
     "output_type": "stream",
     "text": [
      "Downloading http://fashion-mnist.s3-website.eu-central-1.amazonaws.com/train-images-idx3-ubyte.gz\n",
      "Downloading http://fashion-mnist.s3-website.eu-central-1.amazonaws.com/train-images-idx3-ubyte.gz to data\\FashionMNIST\\raw\\train-images-idx3-ubyte.gz\n"
     ]
    },
    {
     "name": "stderr",
     "output_type": "stream",
     "text": [
      "100.0%\n"
     ]
    },
    {
     "name": "stdout",
     "output_type": "stream",
     "text": [
      "Extracting data\\FashionMNIST\\raw\\train-images-idx3-ubyte.gz to data\\FashionMNIST\\raw\n",
      "\n",
      "Downloading http://fashion-mnist.s3-website.eu-central-1.amazonaws.com/train-labels-idx1-ubyte.gz\n",
      "Downloading http://fashion-mnist.s3-website.eu-central-1.amazonaws.com/train-labels-idx1-ubyte.gz to data\\FashionMNIST\\raw\\train-labels-idx1-ubyte.gz\n"
     ]
    },
    {
     "name": "stderr",
     "output_type": "stream",
     "text": [
      "100.0%\n"
     ]
    },
    {
     "name": "stdout",
     "output_type": "stream",
     "text": [
      "Extracting data\\FashionMNIST\\raw\\train-labels-idx1-ubyte.gz to data\\FashionMNIST\\raw\n",
      "\n",
      "Downloading http://fashion-mnist.s3-website.eu-central-1.amazonaws.com/t10k-images-idx3-ubyte.gz\n",
      "Downloading http://fashion-mnist.s3-website.eu-central-1.amazonaws.com/t10k-images-idx3-ubyte.gz to data\\FashionMNIST\\raw\\t10k-images-idx3-ubyte.gz\n"
     ]
    },
    {
     "name": "stderr",
     "output_type": "stream",
     "text": [
      "100.0%\n"
     ]
    },
    {
     "name": "stdout",
     "output_type": "stream",
     "text": [
      "Extracting data\\FashionMNIST\\raw\\t10k-images-idx3-ubyte.gz to data\\FashionMNIST\\raw\n",
      "\n",
      "Downloading http://fashion-mnist.s3-website.eu-central-1.amazonaws.com/t10k-labels-idx1-ubyte.gz\n",
      "Downloading http://fashion-mnist.s3-website.eu-central-1.amazonaws.com/t10k-labels-idx1-ubyte.gz to data\\FashionMNIST\\raw\\t10k-labels-idx1-ubyte.gz\n"
     ]
    },
    {
     "name": "stderr",
     "output_type": "stream",
     "text": [
      "100.0%"
     ]
    },
    {
     "name": "stdout",
     "output_type": "stream",
     "text": [
      "Extracting data\\FashionMNIST\\raw\\t10k-labels-idx1-ubyte.gz to data\\FashionMNIST\\raw\n",
      "\n"
     ]
    },
    {
     "name": "stderr",
     "output_type": "stream",
     "text": [
      "\n"
     ]
    }
   ],
   "execution_count": 2,
   "source": [
    "# 下载训练数据\n",
    "training_data = datasets.FashionMNIST(\n",
    "    root=\"data\",  # 数据存储路径\n",
    "    train=True,  # 选择训练集\n",
    "    download=True,  # 如果数据不存在则下载\n",
    "    transform=ToTensor(),  # 将数据转换为Tensor格式\n",
    ")"
   ],
   "id": "950cbd16ade3e837"
  },
  {
   "metadata": {},
   "cell_type": "code",
   "outputs": [],
   "execution_count": 3,
   "source": [
    "# 下载测试数据\n",
    "test_data = datasets.FashionMNIST(\n",
    "    root=\"data\",  # 数据存储路径\n",
    "    train=False,  # 选择测试集\n",
    "    download=True,  # 如果数据不存在则下载\n",
    "    transform=ToTensor(),  # 将数据转换为Tensor格式\n",
    ")\n",
    "\n",
    "batch_size = 64  # 设置批次大小"
   ],
   "id": "3457ef0a7faa4d47"
  },
  {
   "metadata": {},
   "cell_type": "code",
   "outputs": [],
   "execution_count": 4,
   "source": [
    "# 创建数据加载器\n",
    "train_dataloader = DataLoader(training_data, batch_size=batch_size)  # 训练数据加载器\n",
    "test_dataloader = DataLoader(test_data, batch_size=batch_size)  # 测试数据加载器"
   ],
   "id": "8e81c0546fe76878"
  },
  {
   "metadata": {},
   "cell_type": "code",
   "outputs": [
    {
     "name": "stdout",
     "output_type": "stream",
     "text": [
      "X的形状 [N, C, H, W]: torch.Size([64, 1, 28, 28])\n",
      "y的形状: torch.Size([64]), 类型: torch.int64\n"
     ]
    }
   ],
   "execution_count": 5,
   "source": [
    "# 遍历测试数据加载器，查看数据的形状\n",
    "for X, y in test_dataloader:\n",
    "    print(f\"X的形状 [N, C, H, W]: {X.shape}\")  # 输出 X 的形状\n",
    "    print(f\"y的形状: {y.shape}, 类型: {y.dtype}\")  # 输出 y 的形状和类型\n",
    "    break  # 只查看第一个批次"
   ],
   "id": "41d3ac07f3c1606c"
  },
  {
   "metadata": {},
   "cell_type": "code",
   "outputs": [
    {
     "data": {
      "text/plain": [
       "'使用的设备: cuda'"
      ]
     },
     "execution_count": 6,
     "metadata": {},
     "output_type": "execute_result"
    }
   ],
   "execution_count": 6,
   "source": [
    "# 获取用于训练的 CPU、GPU 或 MPS 设备\n",
    "device = (\n",
    "    \"cuda\"  # 如果有可用的 GPU，使用 cuda\n",
    "    if torch.cuda.is_available()\n",
    "    else \"mps\"  # 否则，使用 MPS\n",
    "    if torch.backends.mps.is_available()\n",
    "    else \"cpu\"  # 否则，使用 CPU\n",
    ")\n",
    "\n",
    "f\"使用的设备: {device}\""
   ],
   "id": "237ca108978dfee0"
  },
  {
   "metadata": {},
   "cell_type": "code",
   "outputs": [
    {
     "data": {
      "text/plain": [
       "NeuralNetwork(\n",
       "  (flatten): Flatten(start_dim=1, end_dim=-1)\n",
       "  (linear_relu_stack): Sequential(\n",
       "    (0): Linear(in_features=784, out_features=512, bias=True)\n",
       "    (1): ReLU()\n",
       "    (2): Linear(in_features=512, out_features=512, bias=True)\n",
       "    (3): ReLU()\n",
       "    (4): Linear(in_features=512, out_features=10, bias=True)\n",
       "  )\n",
       ")"
      ]
     },
     "execution_count": 7,
     "metadata": {},
     "output_type": "execute_result"
    }
   ],
   "execution_count": 7,
   "source": [
    "class NeuralNetwork(nn.Module):\n",
    "    def __init__(self):\n",
    "        super().__init__()\n",
    "        self.flatten = nn.Flatten()  # 将输入展平\n",
    "        self.linear_relu_stack = nn.Sequential(\n",
    "            nn.Linear(28 * 28, 512),  # 第一层线性层，将28x28的图像输入到512维\n",
    "            nn.ReLU(),  # ReLU 激活函数\n",
    "            nn.Linear(512, 512),  # 第二层线性层，将512维输入到512维\n",
    "            nn.ReLU(),  # ReLU 激活函数\n",
    "            nn.Linear(512, 10)  # 输出层，将512维输入映射到10个类别\n",
    "        )\n",
    "\n",
    "    def forward(self, x):\n",
    "        x = self.flatten(x)  # 展平输入\n",
    "        logits = self.linear_relu_stack(x)  # 通过线性层处理输入\n",
    "        return logits  # 返回 logits\n",
    "\n",
    "model = NeuralNetwork().to(device)  # 创建模型并将其移动到指定设备\n",
    "model  # 输出模型结构"
   ],
   "id": "99a4d1b2185d5771"
  },
  {
   "metadata": {},
   "cell_type": "code",
   "outputs": [],
   "execution_count": 8,
   "source": [
    "loss_fn = nn.CrossEntropyLoss()  # 使用交叉熵损失\n",
    "optimizer = torch.optim.SGD(model.parameters(), lr=1e-3)  # 使用随机梯度下降优化器"
   ],
   "id": "e4fb6e6bcf331b4e"
  },
  {
   "metadata": {},
   "cell_type": "code",
   "outputs": [],
   "execution_count": 9,
   "source": [
    "def train(dataloader, model, loss_fn, optimizer):\n",
    "    size = len(dataloader.dataset)  # 数据集的大小\n",
    "    model.train()  # 设置模型为训练模式\n",
    "    for batch, (X, y) in enumerate(dataloader):\n",
    "        X, y = X.to(device), y.to(device)  # 将数据转移到指定设备\n",
    "\n",
    "        # 计算预测误差\n",
    "        pred = model(X)  # 通过模型进行预测\n",
    "        loss = loss_fn(pred, y)  # 计算损失\n",
    "\n",
    "        # 反向传播\n",
    "        loss.backward()  # 计算梯度\n",
    "        optimizer.step()  # 更新参数\n",
    "        optimizer.zero_grad()  # 清除梯度\n",
    "\n",
    "        if batch % 100 == 0:  # 每100个批次输出一次损失\n",
    "            loss, current = loss.item(), (batch + 1) * len(X)\n",
    "            f\"损失: {loss:>7f}  [{current:>5d}/{size:>5d}]\"  # 输出损失"
   ],
   "id": "1f8ee42b82f1ac14"
  },
  {
   "metadata": {},
   "cell_type": "code",
   "outputs": [
    {
     "name": "stdout",
     "output_type": "stream",
     "text": [
      "Epoch: 1/5\n",
      "------------------------------\n"
     ]
    },
    {
     "ename": "NameError",
     "evalue": "name 'model' is not defined",
     "output_type": "error",
     "traceback": [
      "\u001B[1;31m---------------------------------------------------------------------------\u001B[0m",
      "\u001B[1;31mNameError\u001B[0m                                 Traceback (most recent call last)",
      "Cell \u001B[1;32mIn[1], line 41\u001B[0m\n\u001B[0;32m     38\u001B[0m total_correct \u001B[38;5;241m=\u001B[39m \u001B[38;5;241m0\u001B[39m  \u001B[38;5;66;03m# 正确预测数量\u001B[39;00m\n\u001B[0;32m     39\u001B[0m total_samples \u001B[38;5;241m=\u001B[39m \u001B[38;5;241m0\u001B[39m  \u001B[38;5;66;03m# 总样本数量\u001B[39;00m\n\u001B[1;32m---> 41\u001B[0m model\u001B[38;5;241m.\u001B[39mtrain()  \u001B[38;5;66;03m# 设置模型为训练模式\u001B[39;00m\n\u001B[0;32m     43\u001B[0m \u001B[38;5;28;01mfor\u001B[39;00m batch_idx, (X, y) \u001B[38;5;129;01min\u001B[39;00m \u001B[38;5;28menumerate\u001B[39m(train_dataloader):  \u001B[38;5;66;03m# 遍历训练数据加载器\u001B[39;00m\n\u001B[0;32m     44\u001B[0m     optimizer\u001B[38;5;241m.\u001B[39mzero_grad()  \u001B[38;5;66;03m# 梯度清零\u001B[39;00m\n",
      "\u001B[1;31mNameError\u001B[0m: name 'model' is not defined"
     ]
    }
   ],
   "execution_count": 1,
   "source": [
    "# 定义测试函数，检查模型性能\n",
    "def test(dataloader, model, loss_fn):\n",
    "    size = len(dataloader.dataset)  # 获取测试数据集的大小\n",
    "    num_batches = len(dataloader)  # 获取批次数\n",
    "    model.eval()  # 设置模型为评估模式（不计算梯度）\n",
    "    \n",
    "    test_loss, correct = 0, 0  # 初始化测试损失和正确预测的数量\n",
    "    \n",
    "    with torch.no_grad():  # 在此上下文中，不计算梯度\n",
    "        for X, y in dataloader:  # 遍历测试数据加载器\n",
    "            X, y = X.to(device), y.to(device)  # 将输入和标签转移到指定设备\n",
    "            \n",
    "            pred = model(X)  # 使用模型生成预测\n",
    "            \n",
    "            # 计算测试损失并累加\n",
    "            test_loss += loss_fn(pred, y).item()  # 获取损失值并累计\n",
    "            \n",
    "            # 计算正确预测的数量\n",
    "            correct += (pred.argmax(1) == y).type(torch.float).sum().item()  # 将正确预测的数量累加\n",
    "\n",
    "    # 计算平均测试损失\n",
    "    test_loss /= num_batches\n",
    "    # 计算正确预测的比例\n",
    "    correct /= size\n",
    "    \n",
    "    # 输出测试结果，包括准确率和平均损失\n",
    "    print(f\"测试结果: \\n准确率: {(100 * correct):>0.1f}%, 平均损失: {test_loss:>8f}\\n\")\n",
    "\n",
    "# 训练过程分多次迭代（epoch）进行。在每个 epoch 中，模型会学习参数以进行更好的预测。\n",
    "# 我们打印模型在每个 epoch 的准确率和损失；希望看到准确率增加，损失减少。\n",
    "\n",
    "epochs = 5  # 设置训练的轮数为 5\n",
    "for t in range(epochs):  # 遍历每个 epoch\n",
    "    print(f\"Epoch: {t + 1}/{epochs}\\n\" + \"-\" * 30)  # 输出当前的 epoch 号及总轮数\n",
    "    \n",
    "    # 初始化损失和正确预测数量\n",
    "    total_loss = 0.0  # 累加损失\n",
    "    total_correct = 0  # 正确预测数量\n",
    "    total_samples = 0  # 总样本数量\n",
    "\n",
    "    model.train()  # 设置模型为训练模式\n",
    "\n",
    "    for batch_idx, (X, y) in enumerate(train_dataloader):  # 遍历训练数据加载器\n",
    "        optimizer.zero_grad()  # 梯度清零\n",
    "        \n",
    "        pred = model(X.to(device))  # 前向传播，并将输入转移到指定设备\n",
    "        loss = loss_fn(pred, y.to(device))  # 计算损失\n",
    "        \n",
    "        loss.backward()  # 反向传播\n",
    "        optimizer.step()  # 更新参数\n",
    "        \n",
    "        # 累加损失和正确预测\n",
    "        total_loss += loss.item()  # 添加当前批次损失\n",
    "        total_samples += y.size(0)  # 更新总样本数量\n",
    "        total_correct += (pred.argmax(1) == y.to(device)).sum().item()  # 更新正确的预测数量\n",
    "        \n",
    "        # 打印当前批次的损失\n",
    "        if batch_idx % 100 == 0:  # 每 100 个 batch 打印一次\n",
    "            print(f\"批次 {batch_idx}, 损失: {loss.item():.6f}, 已处理样本: {batch_idx * len(X)}\")\n",
    "\n",
    "    # 计算训练准确率\n",
    "    train_accuracy = 100 * total_correct / total_samples\n",
    "    avg_loss = total_loss / len(train_dataloader)  # 计算平均损失\n",
    "    print(f\"训练损失: {avg_loss:.6f}, 训练准确率: {train_accuracy:.2f}%\")  # 打印当前 epoch 的损失和准确率\n",
    "            \n",
    "    # 测试阶段\n",
    "    test(test_dataloader, model, loss_fn)  # 调用测试函数，评估模型在测试集上的表现\n",
    "\n",
    "print(\"完成!\")  # 打印完成训练的提示"
   ],
   "id": "c296274204245bfd"
  },
  {
   "metadata": {},
   "cell_type": "code",
   "outputs": [],
   "execution_count": null,
   "source": [
    "\"\"\"保存模型的常用方法是序列化内部 state 字典（包含模型参数）\"\"\"\n",
    "torch.save(model.state_dict(), \"model.pth\")\n",
    "\"已将 PyTorch 模型状态保存到 model.pth\""
   ],
   "id": "70cc86000cc80d6"
  },
  {
   "metadata": {},
   "cell_type": "code",
   "outputs": [],
   "execution_count": null,
   "source": [
    "\"\"\"加载模型的过程包括重新创建模型结构和加载 state 字典放入其中\"\"\"\n",
    "model = NeuralNetwork().to(device)  # 创建模型并转移到指定设备\n",
    "model.load_state_dict(torch.load(\"model.pth\"))  # 加载模型状态字典"
   ],
   "id": "9bcc9170595e0b12"
  },
  {
   "metadata": {},
   "cell_type": "code",
   "outputs": [],
   "execution_count": null,
   "source": "",
   "id": "5ade266cf93b0b46"
  }
 ],
 "metadata": {
  "kernelspec": {
   "display_name": "Python 3",
   "language": "python",
   "name": "python3"
  },
  "language_info": {
   "codemirror_mode": {
    "name": "ipython",
    "version": 2
   },
   "file_extension": ".py",
   "mimetype": "text/x-python",
   "name": "python",
   "nbconvert_exporter": "python",
   "pygments_lexer": "ipython2",
   "version": "2.7.6"
  }
 },
 "nbformat": 4,
 "nbformat_minor": 5
}
